{
 "cells": [
  {
   "cell_type": "code",
   "execution_count": 12,
   "metadata": {},
   "outputs": [],
   "source": [
    "import sys \n",
    "import os\n",
    "sys.path.append(os.path.abspath(\"/home/stomps/repos/helpmetric\"))\n",
    "import mytool as mt\n",
    "import numpy as np"
   ]
  },
  {
   "cell_type": "markdown",
   "metadata": {},
   "source": [
    " Case 1 NR:\n",
    " * Feed Assay: 22.7931\n",
    " * Product Assay: 78.5409\n",
    " * Tails Assay: 15.9527\n",
    " \n",
    " * Feed Assay: 4.12842\n",
    " * Product Assay: 22.7931\n",
    " * Tails Assay: 1.8382\n",
    "\n",
    "\n",
    " * Feed Assay: 0.71\n",
    " * Product Assay: 4.12842\n",
    " * Tails Assay: 0.290548\n"
   ]
  },
  {
   "cell_type": "code",
   "execution_count": 2,
   "metadata": {},
   "outputs": [
    {
     "name": "stdout",
     "output_type": "stream",
     "text": [
      "virtual cut 0.10929216689407907\n",
      "26.72504806197808\n",
      "2.9208384130419924\n",
      "0.31922475930882255\n",
      "0.03488876567110205\n"
     ]
    }
   ],
   "source": [
    "#Case 1 no recycling\n",
    "T = 15.9527\n",
    "P = 78.5409\n",
    "F = 22.7931\n",
    "\n",
    "v = (T-F)/(T-P)\n",
    "print(\"virtual cut\", v)\n",
    "cut = [v, v, v, v]\n",
    "\n",
    "flow = mt.calc_feed_flows_no_back(4, 0, 1, cut)\n",
    "tot = np.sum(flow)\n",
    "cent_per_unit = 30/tot\n",
    "for flow_ in flow:\n",
    "    print(cent_per_unit*flow_)"
   ]
  },
  {
   "cell_type": "markdown",
   "metadata": {},
   "source": [
    " Case 1 R:\n",
    " * Feed Assay: 1.33793\n",
    " * Product Assay: 7.71256\n",
    " * Tails Assay: 0.555738\n",
    "\n",
    "\n",
    " * Feed Assay: 11.935\n",
    " * Product Assay: 55.7215\n",
    " * Tails Assay: 6.56228\n",
    "\n",
    "\n",
    " * Feed Assay: 55.7214\n",
    " * Product Assay: 95.0027\n",
    " * Tails Assay: 50.9015\n",
    "\n"
   ]
  },
  {
   "cell_type": "code",
   "execution_count": 3,
   "metadata": {},
   "outputs": [
    {
     "name": "stdout",
     "output_type": "stream",
     "text": [
      "virtual cut 0.1092932030445916\n",
      "26.447717832750175\n",
      "3.2022932778278546\n",
      "0.34998888942197054\n"
     ]
    }
   ],
   "source": [
    "#Case 1 no recycling\n",
    "T = 0.555738\n",
    "P = 7.71256\n",
    "F = 1.33793\n",
    "\n",
    "v = (T-F)/(T-P)\n",
    "print(\"virtual cut\", v)\n",
    "cut = [v, v, v]\n",
    "\n",
    "flow = mt.calc_feed_flows(3, 0, 1, cut)\n",
    "tot = np.sum(flow)\n",
    "cent_per_unit = 30/tot\n",
    "for flow_ in flow:\n",
    "    print(cent_per_unit*flow_)"
   ]
  },
  {
   "cell_type": "markdown",
   "metadata": {},
   "source": [
    " Case 2 NR:\n",
    "\n",
    " * Feed Assay: 0.71\n",
    " * Product Assay: 4.12842\n",
    " * Tails Assay: 0.290548\n",
    "\n",
    "\n",
    " * Feed Assay: 4.12842\n",
    " * Product Assay: 20.5921\n",
    " * Tails Assay: 1.72452\n",
    "\n",
    "\n",
    " * Feed Assay: 20.5921\n",
    " * Product Assay: 60.9623\n",
    " * Tails Assay: 9.55737\n",
    "\n",
    "\n",
    " * Feed Assay: 60.9623\n",
    " * Product Assay: 90.3884\n",
    " * Tails Assay: 38.889\n",
    "\n",
    "\n",
    " * Feed Assay: 90.3884\n",
    " * Product Assay: 98.2648\n",
    " * Tails Assay: 79.3055\n",
    "\n"
   ]
  },
  {
   "cell_type": "code",
   "execution_count": 4,
   "metadata": {},
   "outputs": [
    {
     "name": "stdout",
     "output_type": "stream",
     "text": [
      "virtual cut 0.10929285812554455\n",
      "virtual cut 0.1274090264888237\n",
      "virtual cut 0.21466287377494722\n",
      "virtual cut 0.42861276053701586\n",
      "26.63808901423865\n",
      "2.9113528833688114\n",
      "0.37093263663545023\n",
      "0.07962546575708401\n"
     ]
    }
   ],
   "source": [
    "#Case 2 no recycling\n",
    "F = 0.71\n",
    "P = 4.12842\n",
    "T = 0.290548\n",
    "\n",
    "v_0 = (T-F)/(T-P)\n",
    "print(\"virtual cut\", v_0)\n",
    "\n",
    "\n",
    "F = 4.12842\n",
    "P = 20.5921\n",
    "T = 1.72452\n",
    "\n",
    "v_1 = (T-F)/(T-P)\n",
    "print(\"virtual cut\", v_1)\n",
    "\n",
    "F = 20.5921\n",
    "P = 60.9623\n",
    "T = 9.55737\n",
    "\n",
    "v_2 = (T-F)/(T-P)\n",
    "print(\"virtual cut\", v_2)\n",
    "\n",
    "F = 60.9623\n",
    "P = 90.3884\n",
    "T = 38.889\n",
    "\n",
    "v_3 = (T-F)/(T-P)\n",
    "print(\"virtual cut\", v_3)\n",
    "\n",
    "cut = [v_0, v_1, v_2, v_3]\n",
    "\n",
    "flow = mt.calc_feed_flows_no_back(4, 0, 1, cut)\n",
    "tot = np.sum(flow)\n",
    "cent_per_unit = 30/tot\n",
    "for flow_ in flow:\n",
    "    print(cent_per_unit*flow_)"
   ]
  },
  {
   "cell_type": "markdown",
   "metadata": {},
   "source": [
    " Case 2 R:\n",
    "\n",
    " \n",
    " * Feed Assay: 0.944612\n",
    " * Product Assay: 5.43084\n",
    " * Tails Assay: 0.387098\n",
    " \n",
    " \n",
    " * Feed Assay: 6.8406\n",
    " * Product Assay: 30.661\n",
    " * Tails Assay: 2.90531\n",
    " \n",
    " \n",
    " * Feed Assay: 34.2565\n",
    " * Product Assay: 75.8328\n",
    " * Tails Assay: 17.5145\n",
    " \n",
    " \n",
    " * Feed Assay: 75.8328\n",
    " * Product Assay: 94.9739\n",
    " * Tails Assay: 56.1148"
   ]
  },
  {
   "cell_type": "code",
   "execution_count": 5,
   "metadata": {},
   "outputs": [
    {
     "name": "stdout",
     "output_type": "stream",
     "text": [
      "virtual cut 0.11053578870608372\n",
      "virtual cut 0.14178318031365822\n",
      "virtual cut 0.2870796988252401\n",
      "virtual cut 0.5074229717106161\n",
      "25.753395009501496\n",
      "3.418767085093503\n",
      "0.6431908654612412\n",
      "0.1846470399437586\n"
     ]
    }
   ],
   "source": [
    "#Case 2 recycling\n",
    "F = 0.944612\n",
    "P = 5.43084\n",
    "T = 0.387098\n",
    "\n",
    "v_0 = (T-F)/(T-P)\n",
    "print(\"virtual cut\", v_0)\n",
    "\n",
    "F = 6.8406\n",
    "P = 30.661\n",
    "T = 2.90531\n",
    "\n",
    "\n",
    "v_1 = (T-F)/(T-P)\n",
    "print(\"virtual cut\", v_1)\n",
    "\n",
    "F = 34.2565\n",
    "P = 75.8328\n",
    "T = 17.5145\n",
    "\n",
    "v_2 = (T-F)/(T-P)\n",
    "print(\"virtual cut\", v_2)\n",
    "\n",
    "F = 75.8328\n",
    "P = 94.9739\n",
    "T = 56.1148\n",
    "\n",
    "\n",
    "\n",
    "v_3 = (T-F)/(T-P)\n",
    "print(\"virtual cut\", v_3)\n",
    "\n",
    "cut = [v_0, v_1, v_2, v_3]\n",
    "\n",
    "flow = mt.calc_feed_flows(4, 0, 1, cut)\n",
    "tot = np.sum(flow)\n",
    "cent_per_unit = 30/tot\n",
    "for flow_ in flow:\n",
    "    print(cent_per_unit*flow_)"
   ]
  },
  {
   "cell_type": "markdown",
   "metadata": {},
   "source": [
    " CASE 3 NR\n",
    " \n",
    " \n",
    " * Feed Assay: 0.71\n",
    " * Product Assay: 4.12842\n",
    " * Tails Assay: 0.290548\n",
    " \n",
    " \n",
    " * Feed Assay: 4.12842\n",
    " * Product Assay: 22.9913\n",
    " * Tails Assay: 1.81388\n",
    " \n",
    " \n",
    " * Feed Assay: 22.9913\n",
    " * Product Assay: 82.3417\n",
    " * Tails Assay: 15.7088\n",
    " \n",
    " \n",
    " * Feed Assay: 82.3417\n",
    " * Product Assay: 99.1171\n",
    " * Tails Assay: 80.2833\n",
    "\n"
   ]
  },
  {
   "cell_type": "code",
   "execution_count": 6,
   "metadata": {},
   "outputs": [
    {
     "name": "stdout",
     "output_type": "stream",
     "text": [
      "virtual cut 0.10929282226069088\n",
      "26.72502848964768\n",
      "2.9208537886309642\n",
      "0.3192283539703095\n",
      "0.034889367751049956\n"
     ]
    }
   ],
   "source": [
    "#Case 3 no recycling\n",
    "F = 4.12842\n",
    "P = 22.9913\n",
    "T = 1.81388 \n",
    "\n",
    "\n",
    "v = (T-F)/(T-P)\n",
    "print(\"virtual cut\", v)\n",
    "cut = [v, v, v, v]\n",
    "\n",
    "flow = mt.calc_feed_flows_no_back(4, 0, 1, cut)\n",
    "tot = np.sum(flow)\n",
    "cent_per_unit = 30/tot\n",
    "for flow_ in flow:\n",
    "    print(cent_per_unit*flow_)"
   ]
  },
  {
   "cell_type": "markdown",
   "metadata": {},
   "source": [
    "Case 3 R:\n",
    " * Feed Assay: 1.65711\n",
    " * Product Assay: 9.52991\n",
    " * Tails Assay: 0.691081\n",
    "\n",
    "\n",
    " * Feed Assay: 16.0337\n",
    " * Product Assay: 69.8334\n",
    " * Tails Assay: 9.43224\n",
    "\n",
    "\n",
    " * Feed Assay: 72.6095\n",
    " * Product Assay: 98.4403\n",
    " * Tails Assay: 69.4399\n"
   ]
  },
  {
   "cell_type": "code",
   "execution_count": 7,
   "metadata": {},
   "outputs": [
    {
     "name": "stdout",
     "output_type": "stream",
     "text": [
      "virtual cut 0.1092935963481496\n",
      "virtual cut 0.1092950442062869\n",
      "26.4476548873047\n",
      "3.2023447064410546\n",
      "0.35000040625424395\n"
     ]
    }
   ],
   "source": [
    "#Case 3 no recycling\n",
    "F = 16.0337\n",
    "P = 69.8334\n",
    "T = 9.43224\n",
    "\n",
    "v = (T-F)/(T-P)\n",
    "print(\"virtual cut\", v)\n",
    "\n",
    "F = 72.6095\n",
    "P = 98.4403\n",
    "T = 69.4399\n",
    "\n",
    "v = (T-F)/(T-P)\n",
    "print(\"virtual cut\", v)\n",
    "\n",
    "cut = [v, v, v]\n",
    "\n",
    "flow = mt.calc_feed_flows(3, 0, 1, cut)\n",
    "tot = np.sum(flow)\n",
    "cent_per_unit = 30/tot\n",
    "for flow_ in flow:\n",
    "    print(cent_per_unit*flow_)"
   ]
  },
  {
   "cell_type": "code",
   "execution_count": 8,
   "metadata": {},
   "outputs": [],
   "source": [
    "f_ANR = [0.71, 4.13, 22.8, 78.5]\n",
    "p_ANR = [4.13, 22.8, 78.5, 98.2]\n",
    "t_ANR = [0.29, 1.8, 4.13, 76.1]\n",
    "\n",
    "f_AR = [1.3, 11.9, 55.7]\n",
    "p_AR = [7.7, 55.7, 95.0]\n",
    "t_AR = [0.5, 6.6, 50.9]\n",
    "\n",
    "f_BNR = [0.71, 4.13, 20.6, 61.0]\n",
    "p_BNR = [4.13, 20.6, 61.0, 90.4]\n",
    "t_BNR = [0.29, 1.72, 9.56, 79.3]\n",
    "\n",
    "f_BR = [0.94, 6.84, 34.3, 75.8]\n",
    "p_BR = [5.43, 30.7, 75.8, 95.0]\n",
    "t_BR = [0.39, 2.91, 17.5, 56.1]\n",
    "\n",
    "f_CNR = [0.71, 4.13, 22.9, 82.3]\n",
    "p_CNR = [4.13, 22.9, 82.0, 99.1]\n",
    "t_CNR = [0.29, 1.81, 15.7, 80.3]\n",
    "\n",
    "f_CR = [1.33, 12.2, 58.5]\n",
    "p_CR = [4.82, 58.5, 97.0]\n",
    "t_CR = [0.55, 6.52, 53.8]\n",
    "\n",
    "\n"
   ]
  },
  {
   "cell_type": "code",
   "execution_count": 9,
   "metadata": {},
   "outputs": [
    {
     "name": "stderr",
     "output_type": "stream",
     "text": [
      "/home/stomps/.local/lib/python3.6/site-packages/ipykernel_launcher.py:70: MatplotlibDeprecationWarning: Adding an axes using the same arguments as a previous axes currently reuses the earlier instance.  In a future version, a new instance will always be created and returned.  Meanwhile, this warning can be suppressed, and the future behavior ensured, by passing a unique label to each axes instance.\n"
     ]
    },
    {
     "data": {
      "image/png": "[encoded data removed]",
      "text/plain": [
       "<Figure size 432x288 with 1 Axes>"
      ]
     },
     "metadata": {
      "needs_background": "light"
     },
     "output_type": "display_data"
    }
   ],
   "source": [
    "import matplotlib.pyplot as plt\n",
    "import numpy as np\n",
    "SMALL_SIZE = 40\n",
    "MEDIUM_SIZE = SMALL_SIZE+2\n",
    "BIGGER_SIZE = MEDIUM_SIZE +2\n",
    "\n",
    "plt.rc('font', size=SMALL_SIZE)          # controls default text sizes\n",
    "plt.rc('axes', titlesize=SMALL_SIZE)     # fontsize of the axes title\n",
    "plt.rc('axes', labelsize=MEDIUM_SIZE)    # fontsize of the x and y labels\n",
    "plt.rc('xtick', labelsize=SMALL_SIZE)    # fontsize of the tick labels\n",
    "plt.rc('ytick', labelsize=SMALL_SIZE)    # fontsize of the tick labels\n",
    "plt.rc('legend', fontsize=SMALL_SIZE)    # legend fontsize\n",
    "plt.rc('figure', titlesize=BIGGER_SIZE)  # fontsize of the figure title\n",
    "\n",
    "\n",
    "f_lvls = []\n",
    "\n",
    "for i in range(4):\n",
    "    f_lvl = []\n",
    "    if i < len(f_ANR):\n",
    "        f_lvl.append(f_ANR[i])\n",
    "    else:\n",
    "        f_lvl.append(0)\n",
    "        \n",
    "    if i < len(f_AR):\n",
    "        f_lvl.append(f_AR[i])\n",
    "    else:\n",
    "        f_lvl.append(0)\n",
    "\n",
    "    if i < len(f_BNR):\n",
    "        f_lvl.append(f_BNR[i])\n",
    "    else:\n",
    "        f_lvl.append(0)\n",
    "\n",
    "    if i < len(f_BR):\n",
    "        f_lvl.append(f_BR[i])\n",
    "    else:\n",
    "        f_lvl.append(0)\n",
    "\n",
    "    if i < len(f_CNR):\n",
    "        f_lvl.append(f_CNR[i])\n",
    "    else:\n",
    "        f_lvl.append(0)\n",
    "\n",
    "    if i < len(f_CR):\n",
    "        f_lvl.append(f_CR[i])\n",
    "    else:\n",
    "        f_lvl.append(0)\n",
    "    print\n",
    "    f_lvls.append(tuple(f_lvl))\n",
    "\n",
    "N = np.arange(6)\n",
    "width = 0.35       # the width of the bars: can also be len(x) sequence\n",
    "empty = (0,0,0,0,0,0)\n",
    "\n",
    "\n",
    "f_p4 = plt.bar(N, f_lvls[3], width)\n",
    "f_p3 = plt.bar(N, f_lvls[2], width )\n",
    "f_p2 = plt.bar(N, f_lvls[1], width )\n",
    "f_p1 = plt.bar(N, f_lvls[0], width)\n",
    "\n",
    "\n",
    "\n",
    "plt.ylabel('Feed Assay [w%]')\n",
    "#plt.title('Scores by group and gender')\n",
    "plt.xticks(N, ('A/NR', 'A/R', 'B/NR', 'B/R', 'C/NR', 'C/R'))\n",
    "plt.yticks(np.arange(0, 110, 10))\n",
    "#plt.legend((p1[0], p2[0], p3[0], p4[0]), ('lvl 1', 'lvl 2', 'lvl 3', 'lvl 4'))\n",
    "\n",
    "plt.axes().yaxis.grid()\n",
    "plt.savefig(\"feed_assays.png\", dpi=150)\n",
    "plt.show()"
   ]
  },
  {
   "cell_type": "code",
   "execution_count": 10,
   "metadata": {},
   "outputs": [
    {
     "name": "stderr",
     "output_type": "stream",
     "text": [
      "/home/stomps/.local/lib/python3.6/site-packages/ipykernel_launcher.py:72: MatplotlibDeprecationWarning: Adding an axes using the same arguments as a previous axes currently reuses the earlier instance.  In a future version, a new instance will always be created and returned.  Meanwhile, this warning can be suppressed, and the future behavior ensured, by passing a unique label to each axes instance.\n"
     ]
    },
    {
     "data": {
      "image/png": "[encoded data removed]",
      "text/plain": [
       "<Figure size 432x288 with 1 Axes>"
      ]
     },
     "metadata": {
      "needs_background": "light"
     },
     "output_type": "display_data"
    }
   ],
   "source": [
    "import matplotlib.pyplot as plt\n",
    "import numpy as np\n",
    "SMALL_SIZE = 40\n",
    "MEDIUM_SIZE = SMALL_SIZE+2\n",
    "BIGGER_SIZE = MEDIUM_SIZE +2\n",
    "\n",
    "plt.rc('font', size=SMALL_SIZE)          # controls default text sizes\n",
    "plt.rc('axes', titlesize=SMALL_SIZE)     # fontsize of the axes title\n",
    "plt.rc('axes', labelsize=MEDIUM_SIZE)    # fontsize of the x and y labels\n",
    "plt.rc('xtick', labelsize=SMALL_SIZE)    # fontsize of the tick labels\n",
    "plt.rc('ytick', labelsize=SMALL_SIZE)    # fontsize of the tick labels\n",
    "plt.rc('legend', fontsize=SMALL_SIZE)    # legend fontsize\n",
    "plt.rc('figure', titlesize=BIGGER_SIZE)  # fontsize of the figure title\n",
    "\n",
    "\n",
    "\n",
    "\n",
    "p_lvls = []\n",
    "\n",
    "for i in range(4):\n",
    "    p_lvl = []\n",
    "    if i < len(p_ANR):\n",
    "        p_lvl.append(p_ANR[i])\n",
    "    else:\n",
    "        p_lvl.append(0)\n",
    "        \n",
    "    if i < len(p_AR):\n",
    "        p_lvl.append(p_AR[i])\n",
    "    else:\n",
    "        p_lvl.append(0)\n",
    "\n",
    "    if i < len(p_BNR):\n",
    "        p_lvl.append(p_BNR[i])\n",
    "    else:\n",
    "        p_lvl.append(0)\n",
    "\n",
    "    if i < len(p_BR):\n",
    "        p_lvl.append(p_BR[i])\n",
    "    else:\n",
    "        p_lvl.append(0)\n",
    "\n",
    "    if i < len(p_CNR):\n",
    "        p_lvl.append(p_CNR[i])\n",
    "    else:\n",
    "        p_lvl.append(0)\n",
    "\n",
    "    if i < len(p_CR):\n",
    "        p_lvl.append(p_CR[i])\n",
    "    else:\n",
    "        p_lvl.append(0)\n",
    "    print\n",
    "    p_lvls.append(tuple(p_lvl))\n",
    "\n",
    "N = np.arange(6)\n",
    "width = 0.35       # the width of the bars: can also be len(x) sequence\n",
    "empty = (0,0,0,0,0,0)\n",
    "\n",
    "\n",
    "p_p4 = plt.bar(N, p_lvls[3], width)\n",
    "p_p3 = plt.bar(N, p_lvls[2], width )\n",
    "p_p2 = plt.bar(N, p_lvls[1], width )\n",
    "p_p1 = plt.bar(N, p_lvls[0], width)\n",
    "\n",
    "\n",
    "\n",
    "plt.ylabel('Product Assay [w%]')\n",
    "#plt.title('Scores by group and gender')\n",
    "plt.xticks(N, ('A/NR', 'A/R', 'B/NR', 'B/R', 'C/NR', 'C/R'))\n",
    "plt.yticks(np.arange(0, 110, 10))\n",
    "#plt.legend((p1[0], p2[0], p3[0], p4[0]), ('lvl 1', 'lvl 2', 'lvl 3', 'lvl 4'))\n",
    "#plt.gridy()\n",
    "plt.axes().yaxis.grid()\n",
    "plt.axhline(y=90, linestyle=\"--\", linewidth=3, color='black' )\n",
    "\n",
    "\n",
    "plt.savefig(\"product_assays.png\", dpi=150)\n",
    "plt.show()\n",
    "\n"
   ]
  },
  {
   "cell_type": "code",
   "execution_count": 11,
   "metadata": {},
   "outputs": [
    {
     "name": "stderr",
     "output_type": "stream",
     "text": [
      "/home/stomps/.local/lib/python3.6/site-packages/ipykernel_launcher.py:69: MatplotlibDeprecationWarning: Adding an axes using the same arguments as a previous axes currently reuses the earlier instance.  In a future version, a new instance will always be created and returned.  Meanwhile, this warning can be suppressed, and the future behavior ensured, by passing a unique label to each axes instance.\n"
     ]
    },
    {
     "data": {
      "image/png": "[encoded data removed]",
      "text/plain": [
       "<Figure size 432x288 with 1 Axes>"
      ]
     },
     "metadata": {
      "needs_background": "light"
     },
     "output_type": "display_data"
    }
   ],
   "source": [
    "import matplotlib.pyplot as plt\n",
    "import numpy as np\n",
    "SMALL_SIZE = 40\n",
    "MEDIUM_SIZE = SMALL_SIZE+2\n",
    "BIGGER_SIZE = MEDIUM_SIZE +2\n",
    "\n",
    "plt.rc('font', size=SMALL_SIZE)          # controls default text sizes\n",
    "plt.rc('axes', titlesize=SMALL_SIZE)     # fontsize of the axes title\n",
    "plt.rc('axes', labelsize=MEDIUM_SIZE)    # fontsize of the x and y labels\n",
    "plt.rc('xtick', labelsize=SMALL_SIZE)    # fontsize of the tick labels\n",
    "plt.rc('ytick', labelsize=SMALL_SIZE)    # fontsize of the tick labels\n",
    "plt.rc('legend', fontsize=SMALL_SIZE)    # legend fontsize\n",
    "plt.rc('figure', titlesize=BIGGER_SIZE)  # fontsize of the figure title\n",
    "\n",
    "t_lvls = []\n",
    "\n",
    "for i in range(4):\n",
    "    t_lvl = []\n",
    "    if i < len(t_ANR):\n",
    "        t_lvl.append(t_ANR[i])\n",
    "    else:\n",
    "        t_lvl.append(0)\n",
    "        \n",
    "    if i < len(t_AR):\n",
    "        t_lvl.append(t_AR[i])\n",
    "    else:\n",
    "        t_lvl.append(0)\n",
    "\n",
    "    if i < len(t_BNR):\n",
    "        t_lvl.append(t_BNR[i])\n",
    "    else:\n",
    "        t_lvl.append(0)\n",
    "\n",
    "    if i < len(t_BR):\n",
    "        t_lvl.append(t_BR[i])\n",
    "    else:\n",
    "        t_lvl.append(0)\n",
    "\n",
    "    if i < len(t_CNR):\n",
    "        t_lvl.append(t_CNR[i])\n",
    "    else:\n",
    "        t_lvl.append(0)\n",
    "\n",
    "    if i < len(t_CR):\n",
    "        t_lvl.append(t_CR[i])\n",
    "    else:\n",
    "        t_lvl.append(0)\n",
    "    print\n",
    "    t_lvls.append(tuple(t_lvl))\n",
    "\n",
    "N = np.arange(6)\n",
    "width = 0.35       # the width of the bars: can also be len(x) sequence\n",
    "empty = (0,0,0,0,0,0)\n",
    "\n",
    "\n",
    "t_p4 = plt.bar(N, t_lvls[3], width)\n",
    "t_p3 = plt.bar(N, t_lvls[2], width )\n",
    "t_p2 = plt.bar(N, t_lvls[1], width )\n",
    "t_p1 = plt.bar(N, t_lvls[0], width)\n",
    "\n",
    "\n",
    "\n",
    "plt.ylabel('Tails Assay [w%]')\n",
    "#plt.title('Scores by group and gender')\n",
    "plt.xticks(N, ('A/NR', 'A/R', 'B/NR', 'B/R', 'C/NR', 'C/R'))\n",
    "plt.yticks(np.arange(0, 110, 10))\n",
    "#plt.legend((p1[0], p2[0], p3[0], p4[0]), ('lvl 1', 'lvl 2', 'lvl 3', 'lvl 4'))\n",
    "#plt.gridy()\n",
    "plt.axes().yaxis.grid()\n",
    "plt.savefig(\"tails_assays.png\", dpi=150)\n",
    "plt.show()"
   ]
  },
  {
   "cell_type": "code",
   "execution_count": null,
   "metadata": {},
   "outputs": [],
   "source": []
  },
  {
   "cell_type": "code",
   "execution_count": null,
   "metadata": {},
   "outputs": [],
   "source": []
  }
 ],
 "metadata": {
  "kernelspec": {
   "display_name": "Python 3",
   "language": "python",
   "name": "python3"
  },
  "language_info": {
   "codemirror_mode": {
    "name": "ipython",
    "version": 3
   },
   "file_extension": ".py",
   "mimetype": "text/x-python",
   "name": "python",
   "nbconvert_exporter": "python",
   "pygments_lexer": "ipython3",
   "version": "3.6.9"
  }
 },
 "nbformat": 4,
 "nbformat_minor": 2
}
