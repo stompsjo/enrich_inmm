{
 "cells": [
  {
   "cell_type": "code",
   "execution_count": 1,
   "metadata": {},
   "outputs": [
    {
     "name": "stderr",
     "output_type": "stream",
     "text": [
      "/usr/lib/python3.6/importlib/_bootstrap.py:219: QAWarning: pyne.data is not yet QA compliant.\n",
      "  return f(*args, **kwds)\n",
      "/usr/lib/python3.6/importlib/_bootstrap.py:219: QAWarning: pyne.material is not yet QA compliant.\n",
      "  return f(*args, **kwds)\n",
      "/usr/lib/python3.6/importlib/_bootstrap.py:219: QAWarning: pyne.enrichment is not yet QA compliant.\n",
      "  return f(*args, **kwds)\n"
     ]
    }
   ],
   "source": [
    "import sys \n",
    "import os\n",
    "sys.path.append(os.path.abspath(\"/home/stomps/repos/helpmetric\"))\n",
    "import cymetrichelper as cyh\n",
    "import pandahelper as pdh\n",
    "\n",
    "\n",
    "import cymetric as cym\n",
    "import pandas as pd\n",
    "\n",
    "import numpy as np\n",
    "\n",
    "import matplotlib.pyplot as plt\n",
    "from cymetric import graphs as cgr\n",
    "from cymetric import timeseries as tm\n",
    "\n",
    "%matplotlib inline"
   ]
  },
  {
   "cell_type": "code",
   "execution_count": null,
   "metadata": {},
   "outputs": [],
   "source": [
    "files = ['case_2/NR_25_3_1_1_hour.sqlite',\n",
    "         'case_2/NR_25_3_1_1_day.sqlite',\n",
    "         'case_2/NR_25_3_1_1.sqlite',\n",
    "         'case_2/NR_25_3_1_1_year.sqlite']\n",
    "invs = ['storage_3',\n",
    "        'storage_3',\n",
    "        'storage_3',\n",
    "        'storage_3']\n",
    "\n",
    "c_names = ['hourly timestep','daily timestep','monthly timestep','yearly timestep']\n",
    "\n",
    "time_factor = [24*30.438032*12,30.438032*12, 12, 1]\n",
    "LEU_qty_case_2_x = []\n",
    "plt_LEU_qty_case_2_x = []\n",
    "style = ['-', '-.', ':', '--']\n",
    "color = ['C0', 'C1', 'C2', 'C3']\n",
    "for i in range(4):\n",
    "    print(i)\n",
    "    db_ = cym.dbopen(files[i])\n",
    "    ev_ = cym.Evaluator(db=db_, write=False)\n",
    "\n",
    "    df_ = tm.transactions(ev_, receivers=[invs[i]])\n",
    "    df_ = pdh.RenameTS(pdh.RemoveNan(df_), \"Time\", c_names[i])\n",
    "    #print(df_.tail())\n",
    "    \n",
    "    #df_['Time'] *= 1/time_factor[i]\n",
    "    df_[c_names[i]] *= time_factor[i]\n",
    "    LEU_qty_case_2_x.append(df_)\n",
    "    plt_LEU_qty_case_2_x.append( (LEU_qty_case_2_x[i], c_names[i]) )\n",
    "    \n",
    "pdh.MakePlot(plt_LEU_qty_case_2_x, \"Time\", \"HEU production rate [kg/y]\", linestyle=style, color=color, mk=\"\", lw=4 )\n",
    "plt.xlabel('Time [timestep]')\n",
    "#plt.ylim(0,80)\n",
    "\n",
    "plt.xlim(0,50)\n",
    "plt.grid()\n",
    "x = np.arange(0, 16, 1);\n",
    "plt.savefig(\"HEU_prod_timestep.png\")"
   ]
  },
  {
   "cell_type": "code",
   "execution_count": null,
   "metadata": {},
   "outputs": [],
   "source": []
  },
  {
   "cell_type": "code",
   "execution_count": null,
   "metadata": {},
   "outputs": [],
   "source": []
  }
 ],
 "metadata": {
  "kernelspec": {
   "display_name": "Python 3",
   "language": "python",
   "name": "python3"
  },
  "language_info": {
   "codemirror_mode": {
    "name": "ipython",
    "version": 3
   },
   "file_extension": ".py",
   "mimetype": "text/x-python",
   "name": "python",
   "nbconvert_exporter": "python",
   "pygments_lexer": "ipython3",
   "version": "3.6.9"
  }
 },
 "nbformat": 4,
 "nbformat_minor": 2
}
